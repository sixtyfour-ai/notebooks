{
  "cells": [
    {
      "cell_type": "markdown",
      "id": "9f4c23e2",
      "metadata": {
        "id": "9f4c23e2"
      },
      "source": [
        "\n",
        "# SixtyFour AI — Find Email\n",
        "\n",
        "This notebook is your guide to using the Sixtyfour API `find-email`.\n",
        "\n",
        "The `find-email` endpoint finds an email address for a lead based on the information you provide. It searches relevant sources and can validate deliverability. You can optionally restrict results to **company domains** and control whether to use **bruteforce** heuristics.\n",
        "\n",
        "**Tip:** You can change the lead in the parameters at the top. For best results, include the **name** and **company** (and optionally a strong identifier such as **LinkedIn**).\n"
      ]
    },
    {
      "cell_type": "markdown",
      "id": "fc28d74f",
      "metadata": {
        "id": "fc28d74f"
      },
      "source": [
        "\n",
        "## Prerequisites & Secrets\n",
        "\n",
        "### Get your SixtyFour API key\n",
        "1) Sign in: https://app.sixtyfour.ai/login and get your $25 in credits\n",
        "2) Create an organization → **Keys** → **Create new key** → Copy the key.\n",
        "\n",
        "### If you’re in Google Colab\n",
        "- Click the 🔑 (Secrets) icon in the left sidebar.  \n",
        "- Add `SIXTYFOUR_API_KEY` and paste your key.  \n",
        "- Make sure the notebook can access the secret.\n"
      ]
    },
    {
      "cell_type": "code",
      "execution_count": 2,
      "id": "55f90c19",
      "metadata": {
        "colab": {
          "base_uri": "https://localhost:8080/"
        },
        "id": "55f90c19",
        "outputId": "0dcd2ff8-75d2-4313-9944-74ced3805e12"
      },
      "outputs": [
        {
          "output_type": "stream",
          "name": "stdout",
          "text": [
            "✅ Setup complete (key detected, endpoint ready).\n"
          ]
        }
      ],
      "source": [
        "\n",
        "# --- Parameters (you can change these) ---\n",
        "LEAD_NAME = \"Saarth Shah\"\n",
        "LEAD_COMPANY = \"Sixtyfour AI\"\n",
        "# Fill as needed below. The more context, the better it performs.\n",
        "# LEAD_TITLE = \"CEO\"\n",
        "# LEAD_LINKEDIN = \"https://www.linkedin.com/in/sarah-chen-photography\"\n",
        "\n",
        "BRUTEFORCE = False              # If True, tries common patterns + validation\n",
        "ONLY_COMPANY_EMAILS = True      # If True, filters out personal emails (gmail, yahoo, etc.)\n",
        "\n",
        "import os, json, requests\n",
        "\n",
        "API_KEY = os.getenv(\"SIXTYFOUR_API_KEY\", \"\")\n",
        "try:\n",
        "    from google.colab import userdata\n",
        "    secret_val = userdata.get(\"SIXTYFOUR_API_KEY\")\n",
        "    if secret_val:\n",
        "        os.environ[\"SIXTYFOUR_API_KEY\"] = secret_val\n",
        "        API_KEY = secret_val\n",
        "except Exception:\n",
        "    pass\n",
        "\n",
        "BASE_URL = \"https://api.sixtyfour.ai\"\n",
        "ENDPOINT = f\"{BASE_URL}/find-email\"\n",
        "TIMEOUT_S = 180\n",
        "\n",
        "print(\"✅ Setup complete (key detected, endpoint ready).\")\n"
      ]
    },
    {
      "cell_type": "markdown",
      "id": "45679055",
      "metadata": {
        "id": "45679055"
      },
      "source": [
        "\n",
        "## Find_Email Request\n",
        "\n",
        "For most use cases, `find-email` is the perfect tool. You send a request and get an email back with a single call.\n",
        "\n",
        "The request body requires:\n",
        "\n",
        "- **lead**: Lead information (name/company recommended; LinkedIn/domain/email if available).\n",
        "\n",
        "**Optional fields:**\n",
        "\n",
        "- **bruteforce (bool)**: Whether to try common patterns and validate.\n",
        "- **only_company_emails (bool)**: If `true`, only company-domain emails are returned.\n",
        "\n",
        "Responses may take a moment depending on validation steps.\n"
      ]
    },
    {
      "cell_type": "code",
      "execution_count": 4,
      "id": "738769bf",
      "metadata": {
        "colab": {
          "base_uri": "https://localhost:8080/"
        },
        "id": "738769bf",
        "outputId": "fd088da8-8fe2-441f-8687-ba5171c20ee2"
      },
      "outputs": [
        {
          "output_type": "stream",
          "name": "stdout",
          "text": [
            "✅ Success! Keys: ['name', 'company', 'email']\n",
            "\n",
            "Response:\n",
            "{\n",
            "  \"name\": \"Saarth Shah\",\n",
            "  \"company\": \"Sixtyfour AI\",\n",
            "  \"email\": [\n",
            "    [\n",
            "      \"saarth@sixtyfour.ai\",\n",
            "      \"UNKNOWN\",\n",
            "      \"COMPANY\"\n",
            "    ]\n",
            "  ]\n",
            "}\n",
            "\n",
            "Parsed emails:\n",
            " - saarth@sixtyfour.ai | status=UNKNOWN | type=COMPANY\n"
          ]
        }
      ],
      "source": [
        "\n",
        "lead = {\n",
        "    \"name\": LEAD_NAME,\n",
        "    \"company\": LEAD_COMPANY,\n",
        "    # \"title\": LEAD_TITLE,\n",
        "    # \"linkedin\": LEAD_LINKEDIN,\n",
        "}\n",
        "\n",
        "payload = {\n",
        "    \"lead\": lead,\n",
        "    \"bruteforce\": BRUTEFORCE,\n",
        "    \"only_company_emails\": ONLY_COMPANY_EMAILS,\n",
        "}\n",
        "\n",
        "resp = requests.post(\n",
        "    ENDPOINT,\n",
        "    headers={\"x-api-key\": API_KEY, \"Content-Type\": \"application/json\"},\n",
        "    json=payload,\n",
        "    timeout=TIMEOUT_S,\n",
        ")\n",
        "\n",
        "if resp.ok:\n",
        "    data = resp.json()\n",
        "    print(\"✅ Success! Keys:\", list(data.keys()))\n",
        "    print(\"\\nResponse:\")\n",
        "    print(json.dumps(data, indent=2))\n",
        "    # Email field is a list of tuples: [ [email, status, type], ... ]\n",
        "    emails = data.get(\"email\", [])\n",
        "    print(\"\\nParsed emails:\")\n",
        "    for item in emails:\n",
        "        try:\n",
        "            addr, status, kind = item\n",
        "            print(f\" - {addr} | status={status} | type={kind}\")\n",
        "        except Exception:\n",
        "            print(\" -\", item)\n",
        "else:\n",
        "    print(\"❌ Request failed:\", resp.status_code, resp.text[:800])\n"
      ]
    },
    {
      "cell_type": "markdown",
      "id": "00341f7f",
      "metadata": {
        "id": "00341f7f"
      },
      "source": [
        "\n",
        "### How to change values\n",
        "\n",
        "- Edit the lead fields at the top (name/company/title/LinkedIn).  \n",
        "- Toggle `BRUTEFORCE` to try common patterns + validation.  \n",
        "- Toggle `ONLY_COMPANY_EMAILS` to restrict to company-domain addresses.  \n",
        "- If `lead` already includes an `email`, the API returns it unchanged (status `\"OK\"`).\n",
        "- Provide context — More details = better results\n"
      ]
    },
    {
      "cell_type": "code",
      "source": [],
      "metadata": {
        "id": "Za0b1a58RGv7"
      },
      "id": "Za0b1a58RGv7",
      "execution_count": null,
      "outputs": []
    }
  ],
  "metadata": {
    "colab": {
      "provenance": []
    },
    "language_info": {
      "name": "python"
    },
    "kernelspec": {
      "name": "python3",
      "display_name": "Python 3"
    }
  },
  "nbformat": 4,
  "nbformat_minor": 5
}