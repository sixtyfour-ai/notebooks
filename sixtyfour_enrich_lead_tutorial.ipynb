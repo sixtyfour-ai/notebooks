{
  "cells": [
    {
      "cell_type": "markdown",
      "id": "9ee0f800",
      "metadata": {
        "id": "9ee0f800"
      },
      "source": [
        "\n",
        "# SixtyFour AI — Enrich Lead\n",
        "\n",
        "This notebook is your guide to using the **Sixtyfour API `enrich-lead`**. The enrich_lead endpoint allows you to perform deep research on an individual—be it a prospect, candidate, or contact.\n",
        "\n",
        "Enrich-Lead recrusively reads through every link and with this knowledge it can answer questions like: What is this individual an expert in? How many publications do they have? Are they a fashion reseller? Do they have experience with M&A transactions? Etc.\n",
        "\n",
        "Anything that you can think of is fair game for our API. Please give it a go, and let us know how we can help!\n",
        "\n",
        "> **Tip:** You can change the person in the parameters at the top. It can be **anyone with a digital presence**. For best results, include **at least**: `name` **and** `company`, or a direct identifier like `email` **or** `linkedin`.\n"
      ]
    },
    {
      "cell_type": "markdown",
      "id": "c042bb69",
      "metadata": {
        "id": "c042bb69"
      },
      "source": [
        "\n",
        "## Prerequisites & Secrets\n",
        "\n",
        "### Get your SixtyFour API key\n",
        "\n",
        "Follow these steps to create and copy your API key\n",
        "\n",
        "**1) Sign in**\n",
        "Go to <https://app.sixtyfour.ai/login> and log in or sign up.\n",
        "\n",
        "**2)** Enter an organization name once you've signed up and click **Create Organization**.\n",
        "\n",
        "**3)** You’ll land on the dashboard/usage page with $25 in credits. In the left sidebar, open **Keys** → click **Create new key** → name it → **Create key** → copy the key value.\n",
        "\n",
        "\n",
        "\n",
        "### If you’re in **Google Colab**\n",
        "1. Click the **🔑 (Secrets)** icon in the left sidebar.  \n",
        "2. Add a secret named `SIXTYFOUR_API_KEY` and paste your key.  \n",
        "3. Make sure the notebook can access the secret.\n"
      ]
    },
    {
      "cell_type": "code",
      "execution_count": null,
      "id": "504736fe",
      "metadata": {
        "id": "504736fe"
      },
      "outputs": [],
      "source": [
        "\n",
        "# --- Parameters (you can change these) ---\n",
        "# Only name+company/university OR linkedin is needed\n",
        "# You can also give the agent more context following the structure below\n",
        "LEAD_NAME = \"Saarth Shah\"\n",
        "LEAD_COMPANY = \"Sixtyfour AI\"\n",
        "LEAD_EMAIL = None\n",
        "LEAD_LINKEDIN = None\n"
      ]
    },
    {
      "cell_type": "code",
      "execution_count": null,
      "id": "889a0d58",
      "metadata": {
        "colab": {
          "base_uri": "https://localhost:8080/"
        },
        "id": "889a0d58",
        "outputId": "236dab6b-0c99-492c-ac78-8469fdd530e5"
      },
      "outputs": [
        {
          "output_type": "stream",
          "name": "stdout",
          "text": [
            "✅ Setup complete (key detected, endpoints ready).\n"
          ]
        }
      ],
      "source": [
        "\n",
        "import os, json, time, csv, io\n",
        "from datetime import datetime\n",
        "from typing import Dict, Any, List, Optional\n",
        "\n",
        "import requests\n",
        "import pandas as pd\n",
        "\n",
        "API_KEY = os.getenv(\"SIXTYFOUR_API_KEY\", \"\")  # fallback if already set locally\n",
        "try:\n",
        "    from google.colab import userdata\n",
        "    secret_val = userdata.get(\"SIXTYFOUR_API_KEY\")  # raises if not granted or not created\n",
        "    if secret_val:  # avoid overwriting with empty\n",
        "        os.environ[\"SIXTYFOUR_API_KEY\"] = secret_val\n",
        "        API_KEY = secret_val\n",
        "except Exception:\n",
        "    # Not in Colab or secret not available; rely on existing env var\n",
        "    pass\n",
        "\n",
        "BASE_URL = \"https://api.sixtyfour.ai\"\n",
        "SYNC_ENDPOINT = f\"{BASE_URL}/enrich-lead\"\n",
        "ASYNC_ENDPOINT = f\"{BASE_URL}/enrich-lead-async\"\n",
        "STATUS_ENDPOINT = f\"{BASE_URL}/job-status\"\n",
        "TIMEOUT_S = 600  # We reuse these endpoints and TIMEOUT_S throughout the notebook.\n",
        "\n",
        "print(\"✅ Setup complete (key detected, endpoints ready).\")\n"
      ]
    },
    {
      "cell_type": "markdown",
      "id": "880ca739",
      "metadata": {
        "id": "880ca739"
      },
      "source": [
        "## Enrich_Lead Request\n",
        "\n",
        "For most queries, enrich_lead is the perfect tool. You send a request and get a complete profile back with a single call.\n",
        "\n",
        "The request requires two main components in its body:\n",
        "\n",
        "* **`lead_info`**: The initial data you have on the person. The more context you provide, the more focused and correct the research will be.\n",
        "* **`struct`**: Here is where you can request the niche pieces of information you'd like. The first part \"name\" is the field you want filled. The second part following the \":\" is the description given to the agent to help fulfill your exact request.\n",
        "\n",
        "Feel free to change structure in \"struct\" to something more relevant to you!\n",
        "\n",
        "**WARNING**  Please expect a four to five minute wait time for your response! We are working on latentcy, but the agent is actively reading everything live, which take a while"
      ]
    },
    {
      "cell_type": "code",
      "execution_count": null,
      "id": "47206606",
      "metadata": {
        "colab": {
          "base_uri": "https://localhost:8080/"
        },
        "id": "47206606",
        "outputId": "d0dec945-8729-4414-bca9-a9cc21afb8ac"
      },
      "outputs": [
        {
          "output_type": "stream",
          "name": "stdout",
          "text": [
            "✅ Success! Top-level keys: ['notes', 'structured_data', 'findings', 'references', 'confidence_score']\n",
            "\n",
            "Structured data:\n",
            "{\n",
            "  \"name\": \"Saarth Shah\",\n",
            "  \"email\": \"saarth@sixtyfour.ai\",\n",
            "  \"linkedin\": \"https://www.linkedin.com/in/saarthshah/\",\n",
            "  \"location\": \"San Francisco Bay Area, California, United States\",\n",
            "  \"title\": \"Co-founder and CEO\",\n",
            "  \"company_size\": \"10-50 (estimated)\",\n",
            "  \"industry\": \"Artificial Intelligence / Sales technology (SaaS)\",\n",
            "  \"twitter_url\": \"https://x.com/saarth_\",\n",
            "  \"github_url\": \"https://github.com/SaarthShah\",\n",
            "  \"previous_companies\": \"['Whatnot', 'Deepgram', 'Internalize']\",\n",
            "  \"years_experience\": 8,\n",
            "  \"is_executive\": true,\n",
            "  \"company\": \"Sixtyfour AI\"\n",
            "}\n"
          ]
        }
      ],
      "source": [
        "\n",
        "lead_info = {\n",
        "    \"name\": LEAD_NAME,\n",
        "    \"company\": LEAD_COMPANY,\n",
        "    # \"email\": LEAD_EMAIL,        # ← uncomment if you provided it above\n",
        "    # \"linkedin\": LEAD_LINKEDIN,  # ← uncomment if you provided it above\n",
        "}\n",
        "\n",
        "# Ask the API for a few fields; uncomment or add more if you want to find additional data.\n",
        "struct = {\n",
        "    \"name\": \"The individual's full name\",\n",
        "    \"email\": {\"description\": \"Work email\", \"type\": \"string\"},\n",
        "    \"linkedin\": \"LinkedIn URL\",\n",
        "    \"location\": \"Location (city, region, country)\",\n",
        "    \"title\": \"Current job title\",\n",
        "    \"company_size\": \"Company size (employees)\",\n",
        "    \"industry\": \"Industry of the company\",\n",
        "    \"twitter_url\": \"Twitter profile URL\",\n",
        "    \"github_url\": \"GitHub profile URL\",\n",
        "    # You can also add your own fields here to find more information about the lead.\n",
        "\n",
        "\n",
        "    # You can ask for typed fields (predictable format). Types (int, boolean, list[string], etc) make downstream code easier.\n",
        "    \"email\": {\"description\": \"Work email\", \"type\": \"string\"},\n",
        "    \"previous_companies\": {\"description\": \"Previous employers\", \"type\": \"list[string]\"},\n",
        "    \"years_experience\": {\"description\": \"Total years\", \"type\": \"int\"},\n",
        "    \"is_executive\": {\"description\": \"Is executive role\", \"type\": \"boolean\"}\n",
        "}\n",
        "\n",
        "# This is the core API call to enrich a lead.\n",
        "resp = requests.post(\n",
        "    SYNC_ENDPOINT,\n",
        "    headers={\"x-api-key\": API_KEY, \"Content-Type\": \"application/json\"},\n",
        "    json={\"lead_info\": lead_info, \"struct\": struct},\n",
        "    timeout=TIMEOUT_S\n",
        ")\n",
        "\n",
        "if resp.ok:\n",
        "    data = resp.json()\n",
        "    print(\"✅ Success! Top-level keys:\", list(data.keys()))\n",
        "    print(\"\\nStructured data:\")\n",
        "    print(json.dumps(data.get(\"structured_data\", {}), indent=2))\n",
        "else:\n",
        "    print(\"❌ Request failed:\", resp.status_code, resp.text[:500])"
      ]
    },
    {
      "cell_type": "markdown",
      "id": "62b41ec6",
      "metadata": {
        "id": "62b41ec6"
      },
      "source": [
        "\n",
        "## Example structs you can run (copy/paste)\n",
        "\n",
        "Pick one of these, assign to `struct`, and make the same `requests.post` call as above.\n"
      ]
    },
    {
      "cell_type": "code",
      "execution_count": null,
      "id": "da940f05",
      "metadata": {
        "id": "da940f05"
      },
      "outputs": [],
      "source": [
        "\n",
        "# Sales prospecting\n",
        "example_sales_struct = {\n",
        "    \"full_name\": \"Full name\",\n",
        "    \"title\": \"Current job title\",\n",
        "    \"email\": \"Professional email\",\n",
        "    \"phone\": \"Phone number\",\n",
        "    \"linkedin\": \"LinkedIn URL\",\n",
        "    \"decision_authority\": \"Budget/purchasing authority\",\n",
        "    \"team_size\": {\"description\": \"Size of team managed\", \"type\": \"int\"},\n",
        "    \"recent_funding\": \"Recent funding news\",\n",
        "    \"pain_points\": \"Known business challenges\",\n",
        "    \"best_contact_time\": \"Best time to contact\"\n",
        "}\n",
        "\n",
        "# Recruiting\n",
        "example_recruiting_struct = {\n",
        "    \"full_name\": \"Full name\",\n",
        "    \"current_title\": \"Current job title\",\n",
        "    \"years_experience\": {\"description\": \"Total years\", \"type\": \"int\"},\n",
        "    \"technical_skills\": {\"description\": \"Technical skills\", \"type\": \"list[string]\"},\n",
        "    \"previous_companies\": {\"description\": \"Previous employers\", \"type\": \"list[string]\"},\n",
        "    \"education\": \"Highest degree\",\n",
        "    \"open_to_opportunities\": {\"description\": \"Open to new roles\", \"type\": \"boolean\"},\n",
        "    \"salary_expectations\": \"Expected salary range\"\n",
        "}\n",
        "\n",
        "# Marketing\n",
        "example_marketing_struct = {\n",
        "    \"full_name\": \"Full name\",\n",
        "    \"title\": \"Job title\",\n",
        "    \"company_size\": \"Company size (employees)\",\n",
        "    \"budget_authority\": {\"description\": \"Has budget authority\", \"type\": \"boolean\"},\n",
        "    \"content_topics\": {\"description\": \"Topics they post about\", \"type\": \"list[string]\"},\n",
        "    \"social_influence\": \"Social media influence level\",\n",
        "    \"purchase_timeline\": \"Typical purchase timeline\",\n",
        "    \"preferred_channels\": \"Preferred communication channels\"\n",
        "}\n",
        "\n",
        "\n",
        "# Business Development / Partnerships\n",
        "example_bd_struct = {\n",
        "    \"full_name\": \"Full name\",\n",
        "    \"title\": \"Role/title\",\n",
        "    \"decision_authority\": \"Partnership decision authority\",\n",
        "    \"strategic_initiatives\": {\"description\": \"Key initiatives they own\", \"type\": \"list[string]\"},\n",
        "    \"past_partnerships\": {\"description\": \"Notable past partnerships\", \"type\": \"list[string]\"},\n",
        "    \"regions\": {\"description\": \"Regions covered\", \"type\": \"list[string]\"},\n",
        "    \"best_contact_time\": \"Best time to contact\"\n",
        "}\n",
        "\n",
        "# Investor / VC Outreach\n",
        "example_investor_struct = {\n",
        "    \"full_name\": \"Full name\",\n",
        "    \"focus_sectors\": {\"description\": \"Sectors of interest\", \"type\": \"list[string]\"},\n",
        "    \"stage_focus\": \"Stages (pre-seed/seed/A/B/...)\",\n",
        "    \"check_size\": \"Typical check size\",\n",
        "    \"notable_investments\": {\"description\": \"Notable investments\", \"type\": \"list[string]\"},\n",
        "    \"recent_funds\": \"Recent fund announcements\",\n",
        "    \"location\": \"Location\"\n",
        "}\n"
      ]
    },
    {
      "cell_type": "markdown",
      "id": "926347e1",
      "metadata": {
        "id": "926347e1"
      },
      "source": [
        "\n",
        "## Troubleshooting & Next steps\n",
        "\n",
        "**Remember:**  \n",
        "- You can request up to 100 fields in one `struct`  \n",
        "- Adding more fields doesn't increase API usage  \n",
        "- Rate limit: **500 requests per minute** per API key  \n",
        "- Don't be vague — “Saarth” vs “Saarth Shah, CEO at Sixtyfour AI”  \n",
        "- Provide context — More details = better results  \n",
        "\n",
        "\n",
        "**If a request fails:** make sure you provide either `email`, `linkedin`, or `(name AND company)`.  \n",
        "If fields are missing, request fewer first or add more context to `lead_info`. For large workloads, prefer async or the concurrent batch.\n",
        "\n",
        "**Next steps:** try a different `struct`, point the CSV output to your CRM, or move this into an automated script.\n",
        "\n",
        "---\n",
        "\n",
        "*This notebook stays simple on purpose: small cells, clear comments, and the same pattern repeated so anyone can follow.*\n"
      ]
    },
    {
      "cell_type": "code",
      "source": [],
      "metadata": {
        "id": "Y4E7-uOXMqqG"
      },
      "id": "Y4E7-uOXMqqG",
      "execution_count": null,
      "outputs": []
    }
  ],
  "metadata": {
    "colab": {
      "provenance": []
    },
    "language_info": {
      "name": "python"
    },
    "kernelspec": {
      "name": "python3",
      "display_name": "Python 3"
    }
  },
  "nbformat": 4,
  "nbformat_minor": 5
}