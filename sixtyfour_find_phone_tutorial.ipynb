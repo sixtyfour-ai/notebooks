{
  "cells": [
    {
      "cell_type": "markdown",
      "id": "d02817c4",
      "metadata": {
        "id": "d02817c4"
      },
      "source": [
        "\n",
        "# SixtyFour AI — Find Phone (Beta)\n",
        "\n",
        "This notebook is your guide to using the Sixtyfour API `find-phone` (beta).\n",
        "\n",
        "The `find-phone` endpoint discovers phone numbers for a lead from the data you provide. It looks across relevant sources and returns a phone number as a string or an array of phone objects (number + region).\n",
        "\n",
        "**Tip:** You can change the lead in the parameters at the top. Include **name**, **company**, and a strong identifier (e.g., **LinkedIn**, **domain**, or **email**) for best results.\n"
      ]
    },
    {
      "cell_type": "markdown",
      "id": "60b45fff",
      "metadata": {
        "id": "60b45fff"
      },
      "source": [
        "\n",
        "## Prerequisites & Secrets\n",
        "\n",
        "### Get your SixtyFour API key\n",
        "1) Sign in: https://app.sixtyfour.ai/login  \n",
        "2) Create an organization → **Keys** → **Create new key** → Copy the key.\n",
        "\n",
        "### If you’re in Google Colab\n",
        "- Click the 🔑 (Secrets) icon in the left sidebar.  \n",
        "- Add `SIXTYFOUR_API_KEY` and paste your key.  \n",
        "- Make sure the notebook can access the secret.\n"
      ]
    },
    {
      "cell_type": "code",
      "execution_count": 1,
      "id": "be9bf79c",
      "metadata": {
        "colab": {
          "base_uri": "https://localhost:8080/"
        },
        "id": "be9bf79c",
        "outputId": "e1d014aa-6196-4fb9-9a4a-d679e0226273"
      },
      "outputs": [
        {
          "output_type": "stream",
          "name": "stdout",
          "text": [
            "✅ Setup complete (key detected, endpoint ready).\n"
          ]
        }
      ],
      "source": [
        "\n",
        "# --- Parameters (you can change these) ---\n",
        "LEAD_NAME = \"Saarth Shah\"\n",
        "LEAD_COMPANY = \"Sixtyfour AI\"\n",
        "# LEAD_LINKEDIN = \"https://linkedin.com/in/sarahjohnson\"\n",
        "# LEAD_DOMAIN = None\n",
        "# LEAD_EMAIL = None\n",
        "\n",
        "import os, json, requests\n",
        "\n",
        "API_KEY = os.getenv(\"SIXTYFOUR_API_KEY\", \"\")\n",
        "try:\n",
        "    from google.colab import userdata\n",
        "    secret_val = userdata.get(\"SIXTYFOUR_API_KEY\")\n",
        "    if secret_val:\n",
        "        os.environ[\"SIXTYFOUR_API_KEY\"] = secret_val\n",
        "        API_KEY = secret_val\n",
        "except Exception:\n",
        "    pass\n",
        "\n",
        "BASE_URL = \"https://api.sixtyfour.ai\"\n",
        "ENDPOINT = f\"{BASE_URL}/find-phone\"\n",
        "TIMEOUT_S = 180\n",
        "\n",
        "print(\"✅ Setup complete (key detected, endpoint ready).\")\n"
      ]
    },
    {
      "cell_type": "markdown",
      "id": "606b830d",
      "metadata": {
        "id": "606b830d"
      },
      "source": [
        "\n",
        "## Find_Phone Request\n",
        "\n",
        "For most use cases, `find-phone` is straightforward: pass a `lead` object and receive a phone value in return.\n",
        "\n",
        "The request body requires:\n",
        "\n",
        "- **lead (object)**: Lead information (name/company recommended; LinkedIn/domain/email help).\n",
        "\n",
        "Responses may return:\n",
        "- **String**: `\"+1 555-123-4567\"`  \n",
        "- **Array of objects**: `[{\"number\": \"+1 555-123-4567\", \"region\": \"US\"}, ...]`  \n",
        "- **Empty string**: `\"\"` when no phone is found.\n"
      ]
    },
    {
      "cell_type": "code",
      "execution_count": 3,
      "id": "c7992f64",
      "metadata": {
        "colab": {
          "base_uri": "https://localhost:8080/"
        },
        "id": "c7992f64",
        "outputId": "1e270153-9c7f-402e-912e-2f3d75550ce2"
      },
      "outputs": [
        {
          "output_type": "stream",
          "name": "stdout",
          "text": [
            "✅ Success! Keys: ['name', 'company', 'phone']\n",
            "\n",
            "Raw response:\n",
            "{\n",
            "  \"name\": \"Saarth Shah\",\n",
            "  \"company\": \"Sixtyfour AI\",\n",
            "  \"phone\": \"+1 502-388-0975\"\n",
            "}\n",
            "\n",
            "Parsed phone(s):\n",
            " - +1 502-388-0975\n"
          ]
        }
      ],
      "source": [
        "\n",
        "lead = {\n",
        "    \"name\": LEAD_NAME,\n",
        "    \"company\": LEAD_COMPANY,\n",
        "}\n",
        "# if LEAD_LINKEDIN: lead[\"linkedin_url\"] = LEAD_LINKEDIN\n",
        "# if LEAD_DOMAIN: lead[\"domain\"] = LEAD_DOMAIN\n",
        "# if LEAD_EMAIL: lead[\"email\"] = LEAD_EMAIL\n",
        "\n",
        "payload = {\"lead\": lead}\n",
        "\n",
        "resp = requests.post(\n",
        "    ENDPOINT,\n",
        "    headers={\"x-api-key\": API_KEY, \"Content-Type\": \"application/json\"},\n",
        "    json=payload,\n",
        "    timeout=TIMEOUT_S,\n",
        ")\n",
        "\n",
        "if resp.ok:\n",
        "    data = resp.json()\n",
        "    print(\"✅ Success! Keys:\", list(data.keys()))\n",
        "    print(\"\\nRaw response:\")\n",
        "    print(json.dumps(data, indent=2))\n",
        "\n",
        "    # Handle string vs array formats\n",
        "    phone_val = data.get(\"phone\", \"\")\n",
        "    print(\"\\nParsed phone(s):\")\n",
        "    if isinstance(phone_val, str):\n",
        "        print(\" -\", phone_val or \"Not found\")\n",
        "    elif isinstance(phone_val, list):\n",
        "        for p in phone_val:\n",
        "            if isinstance(p, dict):\n",
        "                print(f\" - {p.get('number')} (region={p.get('region')})\")\n",
        "            else:\n",
        "                print(\" -\", p)\n",
        "    else:\n",
        "        print(\" - Not found\")\n",
        "else:\n",
        "    print(\"❌ Request failed:\", resp.status_code, resp.text[:800])\n"
      ]
    },
    {
      "cell_type": "markdown",
      "id": "99b44319",
      "metadata": {
        "id": "99b44319"
      },
      "source": [
        "\n",
        "### How to change values\n",
        "\n",
        "- Edit the lead fields (name/company/LinkedIn/domain/email).  \n",
        "- If you have multiple identifiers, include them—more context improves accuracy.  \n",
        "- Expect `phone` to be a **string**, an **array of objects**, or an **empty string**.\n"
      ]
    }
  ],
  "metadata": {
    "colab": {
      "provenance": []
    },
    "language_info": {
      "name": "python"
    },
    "kernelspec": {
      "name": "python3",
      "display_name": "Python 3"
    }
  },
  "nbformat": 4,
  "nbformat_minor": 5
}