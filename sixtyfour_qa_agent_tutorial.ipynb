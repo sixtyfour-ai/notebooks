{
  "cells": [
    {
      "cell_type": "markdown",
      "id": "eb0d6cf5",
      "metadata": {
        "id": "eb0d6cf5"
      },
      "source": [
        "\n",
        "# SixtyFour AI — QA Agent (Beta)\n",
        "\n",
        "This notebook is your guide to using the Sixtyfour API `qa-agent` (beta).\n",
        "\n",
        "The `qa-agent` endpoint evaluates and qualifies data against predefined criteria using autonomous research and structured analysis. It can read your provided data, perform targeted research (optionally using your references), score against your criteria, and return a clean `structured_data` block plus notes.\n",
        "\n",
        "**Tip:** You can change the `data` object and criteria at the top. Make criteria **clear and weighted** for best results.\n"
      ]
    },
    {
      "cell_type": "markdown",
      "id": "0af7cd43",
      "metadata": {
        "id": "0af7cd43"
      },
      "source": [
        "\n",
        "## Prerequisites & Secrets\n",
        "\n",
        "### Get your SixtyFour API key\n",
        "1) Sign in: https://app.sixtyfour.ai/login  \n",
        "2) Create an organization → **Keys** → **Create new key** → Copy the key.\n",
        "\n",
        "### If you’re in Google Colab\n",
        "- Click the 🔑 (Secrets) icon in the left sidebar.  \n",
        "- Add `SIXTYFOUR_API_KEY` and paste your key.  \n",
        "- Make sure the notebook can access the secret.\n"
      ]
    },
    {
      "cell_type": "code",
      "execution_count": 2,
      "id": "7bbf98cc",
      "metadata": {
        "colab": {
          "base_uri": "https://localhost:8080/"
        },
        "id": "7bbf98cc",
        "outputId": "140c7131-0164-4640-aa22-ac68b6dca3e9"
      },
      "outputs": [
        {
          "output_type": "stream",
          "name": "stdout",
          "text": [
            "✅ Setup complete (key detected, endpoint ready).\n"
          ]
        }
      ],
      "source": [
        "\n",
        "# --- Parameters (you can change these) ---\n",
        "DATA_NAME = \"Saarth Shah\"\n",
        "DATA_BUSINESS_TYPE = \"Bakery\"\n",
        "DATA_FOLLOWERS = \"1 million\"\n",
        "DATA_TWITTER = \"saarth_\"\n",
        "DATA_POSTS = \"6500\"\n",
        "\n",
        "import os, json, requests\n",
        "\n",
        "API_KEY = os.getenv(\"SIXTYFOUR_API_KEY\", \"\")\n",
        "try:\n",
        "    from google.colab import userdata\n",
        "    secret_val = userdata.get(\"SIXTYFOUR_API_KEY\")\n",
        "    if secret_val:\n",
        "        os.environ[\"SIXTYFOUR_API_KEY\"] = secret_val\n",
        "        API_KEY = secret_val\n",
        "except Exception:\n",
        "    pass\n",
        "\n",
        "BASE_URL = \"https://api.sixtyfour.ai\"\n",
        "ENDPOINT = f\"{BASE_URL}/qa-agent\"\n",
        "TIMEOUT_S = 600\n",
        "\n",
        "print(\"✅ Setup complete (key detected, endpoint ready).\")\n"
      ]
    },
    {
      "cell_type": "markdown",
      "id": "5eccf823",
      "metadata": {
        "id": "5eccf823"
      },
      "source": [
        "\n",
        "## QA_Agent Request\n",
        "\n",
        "For most use cases, `qa-agent` is simple: pass a `data` object, a list of `qualification_criteria`, and (optionally) `references` and `struct`.\n",
        "\n",
        "The request body requires:\n",
        "- **data (object)**: Primary data to evaluate and research.\n",
        "- **qualification_criteria (array)**: List of criteria with names, descriptions, weights, and optional thresholds.\n",
        "\n",
        "**Optional fields:**\n",
        "- **references (array)**: URLs to guide research (LinkedIn, Instagram, websites).  \n",
        "- **struct (object)**: Output fields to include in `structured_data` (names + descriptions).\n"
      ]
    },
    {
      "cell_type": "code",
      "execution_count": 8,
      "id": "7dcc27c4",
      "metadata": {
        "colab": {
          "base_uri": "https://localhost:8080/"
        },
        "id": "7dcc27c4",
        "outputId": "61cabef6-244a-4018-ae7b-85395f28c500"
      },
      "outputs": [
        {
          "output_type": "stream",
          "name": "stdout",
          "text": [
            "✅ Success! Keys: ['structured_data', 'notes']\n",
            "\n",
            "Structured data:\n",
            "{\n",
            "  \"recommendation\": \"REJECT due to follower count below required threshold and insufficient evidence of bakery business in San Francisco\",\n",
            "  \"final_verdict\": \"NO\",\n",
            "  \"disqualification_reason\": \"Follower count below minimum requirement of 2,500; no verified bakery business presence in San Francisco\",\n",
            "  \"suitability_score\": \"3\"\n",
            "}\n",
            "\n",
            "Notes:\n",
            "Research findings indicate that Saarth Shah is primarily a tech entrepreneur and software engineer based in San Francisco, involved with a company named Sixtyfour, not explicitly a bakery owner. The Twitter profile (https://www.x.com/saarth_) shows about 2,640 followers, barely above the 2,500 threshold, but the original data claiming 1 million followers and post count '6500' is inconsistent and unverified. No official bakery website or social media presence related to a bakery business was found despite multiple targeted searches and attempts to scrape potential bakery sites, including https://www.saarthshahbakery.com which returned errors. LinkedIn profiles indicate location in San Francisco but reflect tech industry affiliations, not bakery industry. No Instagram or other social media profiles related to a bakery business in San Francisco were identified. The qualification criteria require at least 2,500 followers and confirmed San Francisco bakery location. Although the Twitter follower count meets the follower minimum marginally, the lack of evidence supporting the bakery business location and type disqualifies the subject. Data quality is mixed, with contradictory original input (followers count and Twitter handle) and insufficient corroborating evidence from research results and scraping attempts. Given these factors, a conservative suitability score of 3 (low fit) is assigned. Recommendation is REJECT due to failure to meet the primary qualification criterion of verified bakery business in San Francisco and uncertainty around follower data related to bakery branding.\n"
          ]
        }
      ],
      "source": [
        "data_obj = {\n",
        "    \"name\": DATA_NAME,\n",
        "    \"business_type\": DATA_BUSINESS_TYPE,\n",
        "    \"follower_count\": DATA_FOLLOWERS,\n",
        "    \"post_count\": DATA_POSTS,\n",
        "    \"twitter_handle\": DATA_POSTS,\n",
        "}\n",
        "\n",
        "criteria = [\n",
        "    {\n",
        "        \"criteria_name\": \"Follower count\",\n",
        "        \"description\": \"Must have at least 2,500 followers\",\n",
        "        \"weight\": 10.0,\n",
        "        \"threshold\": 8.0\n",
        "    },\n",
        "    {\n",
        "        \"criteria_name\": \"Target Market Location\",\n",
        "        \"description\": \"Must be located in San Francisco\",\n",
        "        \"weight\": 8.0\n",
        "    }\n",
        "]\n",
        "\n",
        "references = [\n",
        "    {\"url\": f\"https://www.x.com/{DATA_TWITTER}\", \"description\": \"Twitter profile\"}\n",
        "]\n",
        "\n",
        "# You may optionally specify types for predictable outputs inside struct fields (e.g., {\"type\": \"int\"}).\n",
        "struct = {\n",
        "    \"suitability_score\": \"Overall qualification score (0-10)\",\n",
        "    \"disqualification_reason\": \"Primary reason for disqualification if applicable\",\n",
        "    \"final_verdict\": \"Clear YES/NO decision\",\n",
        "    \"recommendation\": \"ACCEPT/REJECT with reasoning\"\n",
        "}\n",
        "\n",
        "payload = {\n",
        "    \"data\": data_obj,\n",
        "    \"qualification_criteria\": criteria,\n",
        "    \"references\": references,\n",
        "    \"struct\": struct\n",
        "}\n",
        "\n",
        "resp = requests.post(\n",
        "    ENDPOINT,\n",
        "    headers={\"x-api-key\": API_KEY, \"Content-Type\": \"application/json\"},\n",
        "    json=payload,\n",
        "    timeout=TIMEOUT_S,\n",
        ")\n",
        "\n",
        "if resp.ok:\n",
        "    result = resp.json()\n",
        "    print(\"✅ Success! Keys:\", list(result.keys()))\n",
        "    print(\"\\nStructured data:\")\n",
        "    print(json.dumps(result.get(\"structured_data\", {}), indent=2))\n",
        "    print(\"\\nNotes:\")\n",
        "    print(result.get(\"notes\", \"\"))\n",
        "else:\n",
        "    print(\"❌ Request failed:\", resp.status_code, resp.text[:800])"
      ]
    },
    {
      "cell_type": "markdown",
      "id": "d77947c3",
      "metadata": {
        "id": "d77947c3"
      },
      "source": [
        "\n",
        "### How to change values\n",
        "\n",
        "- Edit fields in `data_obj` for your candidate/business.  \n",
        "- Adjust `criteria` names, descriptions, weights, and thresholds to match your rubric.  \n",
        "- Add `references` (LinkedIn, Instagram, websites) to guide research.  \n",
        "- Modify `struct` to control which fields appear in `structured_data`.\n"
      ]
    },
    {
      "cell_type": "markdown",
      "id": "2f2b9120",
      "metadata": {
        "id": "2f2b9120"
      },
      "source": [
        "\n",
        "## Example criteria & struct (copy/paste)\n"
      ]
    },
    {
      "cell_type": "code",
      "execution_count": null,
      "id": "38040a9f",
      "metadata": {
        "id": "38040a9f"
      },
      "outputs": [],
      "source": [
        "\n",
        "example_criteria_light = [\n",
        "    {\"criteria_name\": \"Active Posting\", \"description\": \"Posts at least weekly\", \"weight\": 5.0},\n",
        "    {\"criteria_name\": \"Audience Size\", \"description\": \"At least 1000 followers\", \"weight\": 3.0}\n",
        "]\n",
        "\n",
        "example_criteria_strict = [\n",
        "    {\"criteria_name\": \"Inventory Ownership\", \"description\": \"Owns and ships products directly\", \"weight\": 10.0, \"threshold\": 9.0},\n",
        "    {\"criteria_name\": \"EU Location\", \"description\": \"Located in EU\", \"weight\": 6.0}\n",
        "]\n",
        "\n",
        "example_struct_min = {\n",
        "    \"suitability_score\": \"Overall score (0-10)\",\n",
        "    \"final_verdict\": \"YES/NO decision\"\n",
        "}\n",
        "\n",
        "print(\"Ready-to-use examples:\")\n",
        "print(\"criteria (light):\", example_criteria_light)\n",
        "print(\"criteria (strict):\", example_criteria_strict)\n",
        "print(\"struct (minimal):\", example_struct_min)\n"
      ]
    }
  ],
  "metadata": {
    "colab": {
      "provenance": []
    },
    "language_info": {
      "name": "python"
    },
    "kernelspec": {
      "name": "python3",
      "display_name": "Python 3"
    }
  },
  "nbformat": 4,
  "nbformat_minor": 5
}