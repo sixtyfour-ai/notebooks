{
  "cells": [
    {
      "cell_type": "markdown",
      "id": "0d397248",
      "metadata": {
        "id": "0d397248"
      },
      "source": [
        "\n",
        "# SixtyFour AI — Enrich Company\n",
        "\n",
        "This notebook is your guide to using the Sixtyfour API `enrich-company`.\n",
        "\n",
        "The `enrich-company` endpoint allows you to perform deep research on a company. It recursively reads through relevant sources (websites, profiles, public signals, socials) and can answer questions like: **Who owns this company?** **What is their approximate team size?** **What social accounts do they operate?** **What is their tech stack?** **Which decision-makers should I contact?**\n",
        "\n",
        "**Tip:** You can change the company in the parameters at the top. For best results, include at least the **company name** and **website** or a strong identifier (e.g., domain).\n"
      ]
    },
    {
      "cell_type": "markdown",
      "id": "e38f0379",
      "metadata": {
        "id": "e38f0379"
      },
      "source": [
        "\n",
        "## Prerequisites & Secrets\n",
        "\n",
        "### Get your SixtyFour API key\n",
        "Follow these steps to create and copy your API key:\n",
        "\n",
        "**1) Sign in**  \n",
        "Go to https://app.sixtyfour.ai/login and log in or sign up.\n",
        "\n",
        "**2)** Enter an organization name once you've signed up and click **Create Organization** and get your $25 in credits.\n",
        "\n",
        "**3)** You’ll land on the dashboard/usage page with credits. In the left sidebar, open **Keys** → click **Create new key** → name it → **Create key** → copy the key value.\n",
        "\n",
        "### If you’re in Google Colab\n",
        "- Click the 🔑 (Secrets) icon in the left sidebar.  \n",
        "- Add a secret named `SIXTYFOUR_API_KEY` and paste your key.  \n",
        "- Make sure the notebook can access the secret.\n"
      ]
    },
    {
      "cell_type": "code",
      "execution_count": 3,
      "id": "0334e42a",
      "metadata": {
        "id": "0334e42a",
        "colab": {
          "base_uri": "https://localhost:8080/"
        },
        "outputId": "e80925cd-14fd-4ce1-bb10-f97a4e6878f4"
      },
      "outputs": [
        {
          "output_type": "stream",
          "name": "stdout",
          "text": [
            "✅ Setup complete (key detected, endpoint ready).\n"
          ]
        }
      ],
      "source": [
        "\n",
        "# --- Parameters (you can change these) ---\n",
        "COMPANY_NAME = \"Sixtyfour AI\"\n",
        "COMPANY_WEBSITE = \"sixtyfour.ai\"\n",
        "# COMPANY_ADDRESS = \"fill this in for better context\"\n",
        "# COMPANY_PHONE = \"fill this in for better context\"\n",
        "\n",
        "# Optional controls\n",
        "FIND_PEOPLE = True\n",
        "\n",
        "import os, json, requests\n",
        "\n",
        "API_KEY = os.getenv(\"SIXTYFOUR_API_KEY\", \"\")  # fallback if already set locally\n",
        "try:\n",
        "    from google.colab import userdata\n",
        "    secret_val = userdata.get(\"SIXTYFOUR_API_KEY\")  # raises if not granted/not created\n",
        "    if secret_val:\n",
        "        os.environ[\"SIXTYFOUR_API_KEY\"] = secret_val\n",
        "        API_KEY = secret_val\n",
        "except Exception:\n",
        "    pass  # Not in Colab or secret not available; rely on existing env var\n",
        "\n",
        "BASE_URL = \"https://api.sixtyfour.ai\"\n",
        "SYNC_ENDPOINT = f\"{BASE_URL}/enrich-company\"\n",
        "TIMEOUT_S = 600\n",
        "\n",
        "print(\"✅ Setup complete (key detected, endpoint ready).\")\n"
      ]
    },
    {
      "cell_type": "markdown",
      "id": "1b8a3c93",
      "metadata": {
        "id": "1b8a3c93"
      },
      "source": [
        "\n",
        "## Enrich_Company Request\n",
        "\n",
        "For most use cases, `enrich-company` is the perfect tool. You send a request and get enriched company data back with a single call.\n",
        "\n",
        "The request body requires two main components:\n",
        "\n",
        "- **target_company**: The initial data you have on the company. The more context you provide, the more focused and correct the research will be (e.g., name + website + address + phone).\n",
        "- **struct**: The fields you want extracted. The key is the field name you want returned; the value is either a description string or an object with description and an optional type to guide the agent.\n",
        "\n",
        "Responses may take between 5-10 minutes depending on how deep the research goes.\n"
      ]
    },
    {
      "cell_type": "code",
      "execution_count": 4,
      "id": "c164f3a8",
      "metadata": {
        "id": "c164f3a8",
        "colab": {
          "base_uri": "https://localhost:8080/"
        },
        "outputId": "a575af1d-f8a4-4bae-91cd-e2b7109799c3"
      },
      "outputs": [
        {
          "output_type": "stream",
          "name": "stdout",
          "text": [
            "✅ Success! Top-level keys: ['notes', 'structured_data', 'findings', 'references', 'confidence_score']\n",
            "\n",
            "Structured data:\n",
            "{\n",
            "  \"instagram_url\": \"\",\n",
            "  \"is_remote_friendly\": \"\",\n",
            "  \"hq_location\": \"San Francisco, California, United States\",\n",
            "  \"linkedin_url\": \"https://www.linkedin.com/company/sixtyfourai\",\n",
            "  \"num_employees\": 3,\n",
            "  \"founded_year\": 2025,\n",
            "  \"tech_stack\": \"Python, FastAPI, Docker, Machine Learning APIs, AI-driven API services\",\n",
            "  \"revenue_estimate\": \"\",\n",
            "  \"company_name\": \"Sixtyfour AI\",\n",
            "  \"website\": \"https://sixtyfour.ai\",\n",
            "  \"leads\": [\n",
            "    {\n",
            "      \"name\": \"Saarth Shah\",\n",
            "      \"email\": \"saarth@sixtyfour.ai\",\n",
            "      \"company\": \"Sixtyfour AI\",\n",
            "      \"title\": \"CEO & Co-Founder\",\n",
            "      \"phone\": \"\",\n",
            "      \"score\": \"9.5\",\n",
            "      \"linkedin\": \"https://www.linkedin.com/in/saarthshah\"\n",
            "    },\n",
            "    {\n",
            "      \"name\": \"Christopher Price\",\n",
            "      \"email\": \"\",\n",
            "      \"company\": \"Sixtyfour AI\",\n",
            "      \"title\": \"Founder / COO\",\n",
            "      \"phone\": \"\",\n",
            "      \"score\": \"9\",\n",
            "      \"linkedin\": \"https://www.linkedin.com/in/christopher-price-59a24b178\"\n",
            "    },\n",
            "    {\n",
            "      \"name\": \"Roham Mehrabi\",\n",
            "      \"email\": \"\",\n",
            "      \"company\": \"Sixtyfour AI\",\n",
            "      \"title\": \"Forward Deployed Engineer\",\n",
            "      \"phone\": \"\",\n",
            "      \"score\": \"7\",\n",
            "      \"linkedin\": \"https://www.linkedin.com/in/rxhxm\"\n",
            "    }\n",
            "  ]\n",
            "}\n"
          ]
        }
      ],
      "source": [
        "\n",
        "target_company = {\n",
        "    \"company_name\": COMPANY_NAME,\n",
        "    \"website\": COMPANY_WEBSITE,\n",
        "    # \"address\": COMPANY_ADDRESS,\n",
        "    # \"phone_number\": COMPANY_PHONE,\n",
        "}\n",
        "\n",
        "# You can optionally specify types for predictable outputs (e.g., {\"type\": \"int\"}); otherwise simple descriptions are fine.\n",
        "# Below mixes untyped (plain descriptions) and typed (with {\"type\": ...}) fields.\n",
        "struct = {\n",
        "    \"instagram_url\": \"Instagram url for the photography company\",\n",
        "    \"is_remote_friendly\": \"Is the company remote-friendly?\",\n",
        "    \"hq_location\": \"HQ location (city, region, country)\",\n",
        "    \"linkedin_url\": \"LinkedIn company page\",\n",
        "\n",
        "    # Typed structures\n",
        "    \"num_employees\": {\"description\": \"Approximate number of employees\", \"type\": \"int\"},\n",
        "    \"founded_year\": {\"description\": \"Year the company was founded\", \"type\": \"int\"},\n",
        "    \"tech_stack\": {\"description\": \"Core technologies used\", \"type\": \"list[string]\"},\n",
        "    \"revenue_estimate\": {\"description\": \"Estimated annual revenue\", \"type\": \"string\"}\n",
        "    # You can also add your own fields here to find more information about the company.\n",
        "\n",
        "}\n",
        "\n",
        "payload = {\n",
        "    \"target_company\": target_company,\n",
        "    \"struct\": struct,\n",
        "    \"find_people\": FIND_PEOPLE,\n",
        "}\n",
        "\n",
        "resp = requests.post(\n",
        "    SYNC_ENDPOINT,\n",
        "    headers={\"x-api-key\": API_KEY, \"Content-Type\": \"application/json\"},\n",
        "    json=payload,\n",
        "    timeout=TIMEOUT_S,\n",
        ")\n",
        "\n",
        "if resp.ok:\n",
        "    data = resp.json()\n",
        "    print(\"✅ Success! Top-level keys:\", list(data.keys()))\n",
        "    print(\"\\nStructured data:\")\n",
        "    print(json.dumps(data.get(\"structured_data\", {}), indent=2))\n",
        "else:\n",
        "    print(\"❌ Request failed:\", resp.status_code, resp.text[:800])\n"
      ]
    },
    {
      "cell_type": "markdown",
      "id": "8bab0d73",
      "metadata": {
        "id": "8bab0d73"
      },
      "source": [
        "\n",
        "### How to change values\n",
        "\n",
        "- **Pick a different company:** edit `COMPANY_NAME` and `COMPANY_WEBSITE` (address/phone optional).  \n",
        "- **Ask for different fields:** edit `struct`. Mix untyped (description strings) and typed objects with `description` and `type` if you need specific formats.  "
      ]
    },
    {
      "cell_type": "markdown",
      "id": "0f208814",
      "metadata": {
        "id": "0f208814"
      },
      "source": [
        "\n",
        "## Example structs you can run (copy/paste)\n",
        "Pick one of these, assign to `struct`, then call the same `requests.post` as above.\n"
      ]
    },
    {
      "cell_type": "code",
      "execution_count": 5,
      "id": "c838ea32",
      "metadata": {
        "id": "c838ea32"
      },
      "outputs": [],
      "source": [
        "\n",
        "# Product/Engineering mapping\n",
        "example_tech_struct = {\n",
        "    \"company_name\": \"Official company name\",\n",
        "    \"domain\": {\"description\": \"Primary domain (e.g., example.com)\", \"type\": \"string\"},\n",
        "    \"tech_stack\": {\"description\": \"Key technologies used\", \"type\": \"list[string]\"},\n",
        "    \"engineering_team_size\": {\"description\": \"Approximate size of engineering org\", \"type\": \"int\"},\n",
        "    \"github_org\": {\"description\": \"Company GitHub org URL\", \"type\": \"string\"},\n",
        "    \"notable_repos\": {\"description\": \"Top repositories (names/links)\", \"type\": \"list[string]\"}\n",
        "}\n",
        "\n",
        "# Sales prospecting (company-level)\n",
        "example_sales_struct = {\n",
        "    \"company_name\": \"Official company name\",\n",
        "    \"website\": \"Website URL\",\n",
        "    \"num_employees\": {\"description\": \"Approximate employee count\", \"type\": \"int\"},\n",
        "    \"hq_location\": {\"description\": \"Headquarters (city, region, country)\", \"type\": \"string\"},\n",
        "    \"industry\": {\"description\": \"Primary industry/sector\", \"type\": \"string\"},\n",
        "    \"recent_news\": {\"description\": \"Recent press or announcements\", \"type\": \"list[string]\"},\n",
        "    \"key_buyers\": {\"description\": \"Buyer functions to target (e.g., Ops, RevOps)\", \"type\": \"list[string]\"}\n",
        "}\n",
        "\n",
        "# Marketing\n",
        "example_marketing_struct = {\n",
        "    \"brand_handles\": {\"description\": \"Social profiles (Twitter, Instagram, LinkedIn)\", \"type\": \"list[string]\"},\n",
        "    \"content_topics\": {\"description\": \"Topics they post about\", \"type\": \"list[string]\"},\n",
        "    \"audience_size\": {\"description\": \"Aggregate audience size estimate\", \"type\": \"int\"},\n",
        "    \"newsletter_url\": {\"description\": \"Newsletter or blog URL\", \"type\": \"string\"},\n",
        "    \"paid_channels\": {\"description\": \"Paid marketing channels used\", \"type\": \"list[string]\"}\n",
        "}\n",
        "\n",
        "# Partnerships / BD\n",
        "example_bd_struct = {\n",
        "    \"strategic_initiatives\": {\"description\": \"Key initiatives they own\", \"type\": \"list[string]\"},\n",
        "    \"notable_customers\": {\"description\": \"Notable customers/logos\", \"type\": \"list[string]\"},\n",
        "    \"ecosystem_partners\": {\"description\": \"Ecosystem/integration partners\", \"type\": \"list[string]\"},\n",
        "    \"regions\": {\"description\": \"Regions the company operates in\", \"type\": \"list[string]\"}\n",
        "}\n",
        "\n",
        "# Investor / diligence\n",
        "example_investor_struct = {\n",
        "    \"founded_year\": {\"description\": \"Year founded\", \"type\": \"int\"},\n",
        "    \"founders\": {\"description\": \"Founders' names\", \"type\": \"list[string]\"},\n",
        "    \"funding_rounds\": {\"description\": \"Funding rounds and amounts\", \"type\": \"list[string]\"},\n",
        "    \"lead_investors\": {\"description\": \"Lead investors by round\", \"type\": \"list[string]\"},\n",
        "    \"revenue_estimate\": {\"description\": \"Estimated revenue (latest FY)\", \"type\": \"string\"},\n",
        "    \"num_employees\": {\"description\": \"Approximate employee count\", \"type\": \"int\"}\n",
        "}\n"
      ]
    },
    {
      "cell_type": "markdown",
      "source": [
        "\n",
        "## Troubleshooting & Next steps\n",
        "\n",
        "**Remember:**  \n",
        "- You can request up to 100 fields in one `struct`  \n",
        "- Adding more fields doesn't increase API usage but adding rows does.\n",
        "- Rate limit: **500 requests per minute** per API key  \n",
        "- Don't be vague — “Sixtyfour” vs “Sixtyfour AI (YC X25) from SF”  \n",
        "- Provide context — More details = better results  \n",
        "\n",
        "\n",
        "**Next steps:** try a different `struct`, point the CSV output to your CRM, or move this into an automated script.\n"
      ],
      "metadata": {
        "id": "ea00LedqvHUw"
      },
      "id": "ea00LedqvHUw"
    }
  ],
  "metadata": {
    "colab": {
      "provenance": []
    },
    "language_info": {
      "name": "python"
    },
    "kernelspec": {
      "name": "python3",
      "display_name": "Python 3"
    }
  },
  "nbformat": 4,
  "nbformat_minor": 5
}